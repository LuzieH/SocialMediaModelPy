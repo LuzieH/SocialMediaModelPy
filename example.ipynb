{
 "cells": [
  {
   "cell_type": "code",
   "execution_count": 1,
   "metadata": {},
   "outputs": [],
   "source": [
    "from SocialMediaModelPy import abm\n",
    "\n",
    "#paths for saving images and gif frames\n",
    "imgpath = \"img\"\n",
    "framespath = \"img\\\\frames\" "
   ]
  },
  {
   "cell_type": "code",
   "execution_count": 2,
   "metadata": {},
   "outputs": [],
   "source": [
    "# parameters\n",
    "N = 250 # number of individuals\n",
    "timesteps = 350 # time steps to simulate with a stepsize of dt\n",
    "a = 1.5\n",
    "b = 2.\n",
    "c = 3.\n",
    "seed = 1 # seed for random number generator"
   ]
  },
  {
   "cell_type": "code",
   "execution_count": 3,
   "metadata": {},
   "outputs": [],
   "source": [
    "# sample initial condition\n",
    "x0,y0,z0,A,B,C0 = abm.init(N, seed=seed)\n",
    "\n",
    "#instantiate model with initial condition and parameters\n",
    "ops = abm.opinions(x0, y0, z0, A, B, C0, a=a, b=b, c=c)\n",
    "\n",
    "#evolve model\n",
    "xs,ys,zs,Cs = ops.run(timesteps=timesteps, seed=seed)"
   ]
  },
  {
   "cell_type": "code",
   "execution_count": 4,
   "metadata": {},
   "outputs": [],
   "source": [
    "# plot a snapshot\n",
    "ops.plotsnapshot(xs[-1],ys[-1],zs[-1],B,Cs[-1],save=True,path=imgpath)\n",
    "\n",
    "# make gif\n",
    "ops.makegif(xs,ys,zs,Cs,stepsize=10,gifpath=imgpath, framespath=framespath)"
   ]
  }
 ],
 "metadata": {
  "kernelspec": {
   "display_name": ".venv",
   "language": "python",
   "name": "python3"
  },
  "language_info": {
   "codemirror_mode": {
    "name": "ipython",
    "version": 3
   },
   "file_extension": ".py",
   "mimetype": "text/x-python",
   "name": "python",
   "nbconvert_exporter": "python",
   "pygments_lexer": "ipython3",
   "version": "3.11.1"
  },
  "orig_nbformat": 4,
  "vscode": {
   "interpreter": {
    "hash": "1be21bc0021f67096bb4d3be6b17f1123b3826c48de0a012a09598b3d79c9d5b"
   }
  }
 },
 "nbformat": 4,
 "nbformat_minor": 2
}
