{
 "cells": [
  {
   "cell_type": "code",
   "execution_count": 24,
   "metadata": {},
   "outputs": [],
   "source": [
    "from SocialMediaModelPy import abm,test_abm\n",
    "\n",
    "imgpath = \"img\"\n",
    "framespath = \"img\\\\frames\" "
   ]
  },
  {
   "cell_type": "code",
   "execution_count": 25,
   "metadata": {},
   "outputs": [],
   "source": [
    "# parameters\n",
    "N = 250\n",
    "timesteps = 350\n",
    "seed = 1"
   ]
  },
  {
   "cell_type": "code",
   "execution_count": 26,
   "metadata": {},
   "outputs": [],
   "source": [
    "# sample initial condition\n",
    "x0,y0,z0,A,B,C0 = abm.init(N,seed=seed)\n",
    "\n",
    "#instantiate model with initial condition and parameters\n",
    "ops = abm.opinions(x0,y0,z0,A,B,C0)\n",
    "\n",
    "#evolve model\n",
    "xs,ys,zs,Cs = ops.run(timesteps=timesteps,seed=seed)\n",
    "\n",
    "\n"
   ]
  },
  {
   "cell_type": "code",
   "execution_count": 27,
   "metadata": {},
   "outputs": [],
   "source": [
    "ops.plotsnapshot(ops.x0,ops.y0,ops.z0,ops.B,ops.C0,save=True,path=imgpath)\n",
    "ops.makegif(xs,ys,zs,Cs,stepsize=10,gifpath=imgpath, framespath=framespath)"
   ]
  }
 ],
 "metadata": {
  "kernelspec": {
   "display_name": ".venv",
   "language": "python",
   "name": "python3"
  },
  "language_info": {
   "codemirror_mode": {
    "name": "ipython",
    "version": 3
   },
   "file_extension": ".py",
   "mimetype": "text/x-python",
   "name": "python",
   "nbconvert_exporter": "python",
   "pygments_lexer": "ipython3",
   "version": "3.11.1"
  },
  "orig_nbformat": 4,
  "vscode": {
   "interpreter": {
    "hash": "1be21bc0021f67096bb4d3be6b17f1123b3826c48de0a012a09598b3d79c9d5b"
   }
  }
 },
 "nbformat": 4,
 "nbformat_minor": 2
}
