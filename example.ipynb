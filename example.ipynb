{
 "cells": [
  {
   "cell_type": "code",
   "execution_count": 20,
   "metadata": {},
   "outputs": [],
   "source": [
    "from SocialMediaModelPy import abm,test_abm\n",
    "\n",
    "imgpath = \"img\"\n",
    "framespath = \"img\\\\frames\" "
   ]
  },
  {
   "cell_type": "code",
   "execution_count": 21,
   "metadata": {},
   "outputs": [],
   "source": [
    "# parameters\n",
    "N = 250\n",
    "timesteps = 350\n",
    "seed = 1"
   ]
  },
  {
   "cell_type": "code",
   "execution_count": 22,
   "metadata": {},
   "outputs": [],
   "source": [
    "# sample initial condition\n",
    "x0,y0,z0,A,B,C0 = abm.init(N,seed=seed)\n",
    "\n",
    "#instantiate model with initial condition and parameters\n",
    "ops = abm.opinions(x0,y0,z0,A,B,C0)\n",
    "\n",
    "#evolve model\n",
    "xs,ys,zs,Cs = ops.run(timesteps=timesteps,seed=seed)\n",
    "\n",
    "\n"
   ]
  },
  {
   "cell_type": "code",
   "execution_count": null,
   "metadata": {},
   "outputs": [],
   "source": [
    "ops.plotsnapshot(ops.x0,ops.y0,ops.z0,ops.B,ops.C0,save=True,path=imgpath)\n",
    "ops.makegif(xs,ys,zs,Cs,stepsize=10,gifpath=imgpath, framespath=framespath)"
   ]
  },
  {
   "cell_type": "code",
   "execution_count": 19,
   "metadata": {},
   "outputs": [
    {
     "ename": "NameError",
     "evalue": "name 'test_dimensions' is not defined",
     "output_type": "error",
     "traceback": [
      "\u001b[1;31m---------------------------------------------------------------------------\u001b[0m",
      "\u001b[1;31mNameError\u001b[0m                                 Traceback (most recent call last)",
      "Cell \u001b[1;32mIn[19], line 1\u001b[0m\n\u001b[1;32m----> 1\u001b[0m test_dimensions()\n",
      "\u001b[1;31mNameError\u001b[0m: name 'test_dimensions' is not defined"
     ]
    }
   ],
   "source": [
    "test_abm.test_dimensions()"
   ]
  },
  {
   "cell_type": "code",
   "execution_count": null,
   "metadata": {},
   "outputs": [],
   "source": []
  }
 ],
 "metadata": {
  "kernelspec": {
   "display_name": ".venv",
   "language": "python",
   "name": "python3"
  },
  "language_info": {
   "codemirror_mode": {
    "name": "ipython",
    "version": 3
   },
   "file_extension": ".py",
   "mimetype": "text/x-python",
   "name": "python",
   "nbconvert_exporter": "python",
   "pygments_lexer": "ipython3",
   "version": "3.11.1"
  },
  "orig_nbformat": 4,
  "vscode": {
   "interpreter": {
    "hash": "1be21bc0021f67096bb4d3be6b17f1123b3826c48de0a012a09598b3d79c9d5b"
   }
  }
 },
 "nbformat": 4,
 "nbformat_minor": 2
}
